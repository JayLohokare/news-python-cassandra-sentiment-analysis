{
 "cells": [
  {
   "cell_type": "code",
   "execution_count": 48,
   "metadata": {},
   "outputs": [
    {
     "name": "stdout",
     "output_type": "stream",
     "text": [
      "Requirement already satisfied: requests in /Library/Frameworks/Python.framework/Versions/2.7/lib/python2.7/site-packages (2.19.1)\n",
      "Requirement already satisfied: certifi>=2017.4.17 in /Library/Frameworks/Python.framework/Versions/2.7/lib/python2.7/site-packages (from requests) (2018.4.16)\n",
      "Requirement already satisfied: chardet<3.1.0,>=3.0.2 in /Library/Frameworks/Python.framework/Versions/2.7/lib/python2.7/site-packages (from requests) (3.0.4)\n",
      "Requirement already satisfied: urllib3<1.24,>=1.21.1 in /Library/Frameworks/Python.framework/Versions/2.7/lib/python2.7/site-packages (from requests) (1.23)\n",
      "Requirement already satisfied: idna<2.8,>=2.5 in /Library/Frameworks/Python.framework/Versions/2.7/lib/python2.7/site-packages (from requests) (2.7)\n",
      "Collecting urllib2\n",
      "\u001b[31m  Could not find a version that satisfies the requirement urllib2 (from versions: )\u001b[0m\n",
      "\u001b[31mNo matching distribution found for urllib2\u001b[0m\n"
     ]
    }
   ],
   "source": [
    "pip install requests\n",
    "\n",
    "git clone https://github.com/grangier/python-goose.git\n",
    "cd python-goose\n",
    "pip install -r requirements.txt\n",
    "python setup.py install"
   ]
  },
  {
   "cell_type": "code",
   "execution_count": 55,
   "metadata": {},
   "outputs": [],
   "source": [
    "import requests\n",
    "from goose import Goose\n",
    "import json\n",
    "import urllib2\n"
   ]
  },
  {
   "cell_type": "code",
   "execution_count": 68,
   "metadata": {},
   "outputs": [],
   "source": [
    "APIKey = \"d893d75b150741de9e9464206f1f5673\"\n",
    "keys = ['bitcoin']    #Amit enter other keys here!\n",
    "urls = []\n",
    "articles = []"
   ]
  },
  {
   "cell_type": "code",
   "execution_count": 69,
   "metadata": {},
   "outputs": [
    {
     "name": "stdout",
     "output_type": "stream",
     "text": [
      "https://newsapi.org/v2/everything?sortBy=publishedAt&apiKey=d893d75b150741de9e9464206f1f5673&q=bitcoin\n"
     ]
    }
   ],
   "source": [
    "for searchKey in keys:\n",
    "    baseURL = 'https://newsapi.org/v2/everything?sortBy=publishedAt&apiKey=' + APIKey + '&q=' + searchKey\n",
    "    print baseURL\n",
    "    response = requests.post(baseURL)\n",
    "    jsonVal = response.json()\n",
    "#     print jsonVal\n",
    "    articlesTemp = jsonVal['articles']\n",
    "#     print articles\n",
    "    for i in articlesTemp:\n",
    "        url = i['url']\n",
    "        urls.append(url)"
   ]
  },
  {
   "cell_type": "code",
   "execution_count": 64,
   "metadata": {},
   "outputs": [
    {
     "name": "stdout",
     "output_type": "stream",
     "text": [
      "[u'https://www.chip.com.tr/haber/truva-atlari-su-siralar-cok-daha-tehlikeli_77476.html', u'https://www.itproportal.com/news/ibm-and-maersk-launch-blockchain-for-the-seas/', u'https://hackernoon.com/transaction-agnosticism-a-path-to-cryptocurrency-mass-adoption-a7e054eea3cc', u'https://hackernoon.com/blockchain-scaling-lightning-network-3d7080587190', u'https://hackernoon.com/the-600-billion-crash-and-the-real-value-of-blockchain-be74c2f2b91d', u'https://www.chip.com.tr/haber/yapay-zeka-mimarisiyle-derin-ogrenme-hizlaniyor_77474.html', u'https://tech.slashdot.org/story/18/08/10/1612248/the-world-bank-is-preparing-for-the-worlds-first-blockchain-bond', u'https://hackernoon.com/crypto-battle-on-a-boat-roger-ver-and-jimmy-song-to-rehash-their-bitcoin-cash-differences-5725c9744c54', u'http://news.sys-con.com/node/4303734', u'https://www.prnewswire.comjobcom-to-open-white-list-300695476', u'https://www.businessinsider.com/facebook-is-talking-to-cryptocurrency-stellar-about-making-a-big-move-into-crypto-2018-7', u'https://hacked.com/week-in-review-as-cryptos-sell-off-bitcoin-approaches-major-inflection-point/', u'https://cointelegraph.com/news/crypto-markets-attempt-recovery-bitcoin-circles-6-500-support', u'https://hackernoon.com/7-early-signs-that-shows-a-crypto-project-will-underperform-c44fe5ddada6', u'https://hackernoon.com/ito-a-new-investment-paradigm-or-a-game-for-crypto-enthusiasts-42f7b395ca0a', u'https://www.ccn.com/hackers-breach-pga-servers-ahead-of-golf-championship-demand-bitcoin/', u'http://techcrunch.com/2018/08/10/crypto-mining-giant-bitmain-on-target-for-10b-revenue-this-year/', u'https://www.youbrandinc.com/blockchain/the-world-bank-is-getting-in-on-blockchain/', u'https://bitcoinmagazine.com/articles/lightning-network-payment-system-sparkswap-makes-its-official-debut/', u'https://cointelegraph.com/news/us-satellite-service-dish-adds-bch-payment-option-moves-to-bitpay-payments-provider']\n"
     ]
    }
   ],
   "source": [
    "print urls"
   ]
  },
  {
   "cell_type": "code",
   "execution_count": 70,
   "metadata": {},
   "outputs": [],
   "source": [
    "g = Goose({'browser_user_agent': 'Mozilla'})"
   ]
  },
  {
   "cell_type": "code",
   "execution_count": 71,
   "metadata": {},
   "outputs": [
    {
     "name": "stdout",
     "output_type": "stream",
     "text": [
      "Error\n",
      "Error\n",
      "Error\n",
      "Error\n",
      "Error\n",
      "Error\n",
      "Error\n",
      "Error\n",
      "Error\n",
      "Error\n",
      "Error\n",
      "Error\n",
      "Error\n",
      "Error\n",
      "Error\n",
      "Error\n",
      "Error\n",
      "Error\n",
      "Error\n"
     ]
    }
   ],
   "source": [
    "for url in urls:\n",
    "    article = g.extract(url=url)\n",
    "    content = article.cleaned_text\n",
    "    if content == \"\":\n",
    "        print \"Error\"\n",
    "        articles.append(\"\")\n",
    "    else:\n",
    "        articles.append(content)"
   ]
  },
  {
   "cell_type": "code",
   "execution_count": 72,
   "metadata": {},
   "outputs": [
    {
     "name": "stdout",
     "output_type": "stream",
     "text": [
      "['', '', '', '', '', '', '', '', u\"How to Sponsor DevOpsSUMMIT New York & Silicon Valley DevOpsSUMMIT at CloudEXPO will expand the DevOps community, enable a wide sharing of knowledge, and educate delegates and technology providers alike. Recent research has shown that DevOps dramatically reduces development time, the amount of enterprise IT professionals put out fires, and support time generally. Time spent on infrastructure development is significantly increased, and DevOps practitioners report more software releases and higher quality. Sponsors of DevOpsSUMMIT at CloudEXPO will b... DevOpsSUMMIT at CloudEXPO will expand the DevOps community, enable a wide sharing of knowledge, and educate delegates and technology providers alike. Recent research has shown that DevOps dramatically reduces development time, the amount of enterprise IT professionals put out fires, and support time generally. Time spent on infrastructure development is significantly increased, and DevOps practitioners report more software releases and higher quality. Sponsors of DevOpsSUMMIT at CloudEXPO will b...\\n\\nYottabyte to Exhibit at CloudEXPO New York Yottabyte is a software-defined data center (SDDC) company headquartered in Bloomfield Township, Oakland County, Michigan. The mission of Yottabyte is to enable any organization to easily and economically realize the benefits of the cloud in their own datacenter. The Yottabyte Cloud Software natively virtualizes compute, storage, and network resources into a resilient, automated software-defined cloud infrastructure solution. Both Enterprise IT customers and Service Providers benefit from Yottab... Yottabyte is a software-defined data center (SDDC) company headquartered in Bloomfield Township, Oakland County, Michigan. The mission of Yottabyte is to enable any organization to easily and economically realize the benefits of the cloud in their own datacenter. The Yottabyte Cloud Software natively virtualizes compute, storage, and network resources into a resilient, automated software-defined cloud infrastructure solution. Both Enterprise IT customers and Service Providers benefit from Yottab...\\n\\nHow to Sponsor CloudEXPO New York and Silicon Valley Today we introduced our New York & Silicon Valley combo sponsorship and exhibit opportunities with unmatched pre and post-show promotion. At CloudEXPO | DevOpsSUMMIT | DXWorldEXPO NY & CA, Digital Transformation (DX) is a major focus with the introduction of DXWorldEXPO within the program. Successful transformation requires a laser focus on being data-driven and on using all the tools available that enable transformation if they plan to survive over the long term. A total of 88% of Fortune... Today we introduced our New York & Silicon Valley combo sponsorship and exhibit opportunities with unmatched pre and post-show promotion. At CloudEXPO | DevOpsSUMMIT | DXWorldEXPO NY & CA, Digital Transformation (DX) is a major focus with the introduction of DXWorldEXPO within the program. Successful transformation requires a laser focus on being data-driven and on using all the tools available that enable transformation if they plan to survive over the long term. A total of 88% of Fortune...\\n\\nFinTech Is Now Part of the CloudEXPO New York Program. Financial enterprises in New York City, London, Singapore, and other world financial capitals are embracing a new generation of smart, automated FinTech that eliminates many cumbersome, slow, and expensive intermediate processes from their businesses. Accordingly, attendees at the upcoming 22nd CloudEXPO | DXWorldEXPO November 12-13, 2018 in New York City will find fresh new content in two new tracks called: FinTechEXPO New York Blockchain E... FinTech Is Now Part of the CloudEXPO New York Program. Financial enterprises in New York City, London, Singapore, and other world financial capitals are embracing a new generation of smart, automated FinTech that eliminates many cumbersome, slow, and expensive intermediate processes from their businesses. Accordingly, attendees at the upcoming 22nd CloudEXPO | DXWorldEXPO November 12-13, 2018 in New York City will find fresh new content in two new tracks called: FinTechEXPO New York Blockchain E...\\n\\nAndrew Keys is Co-Founder of ConsenSys Enterprise. He comes to ConsenSys Enterprise with capital markets, technology and entrepreneurial experience. Previously, he worked for UBS investment bank in equities analysis. Later, he was responsible for the creation and distribution of life settlement products to hedge funds and investment banks. After, he co-founded a revenue cycle management company where he learned about Bitcoin and eventually Ethereal. Andrew's role at ConsenSys Enterprise is a mul... Andrew Keys is Co-Founder of ConsenSys Enterprise. He comes to ConsenSys Enterprise with capital markets, technology and entrepreneurial experience. Previously, he worked for UBS investment bank in equities analysis. Later, he was responsible for the creation and distribution of life settlement products to hedge funds and investment banks. After, he co-founded a revenue cycle management company where he learned about Bitcoin and eventually Ethereal. Andrew's role at ConsenSys Enterprise is a mul...\\n\\n\\u200bBlockchain, also known as Distributed Ledger Technology (DLT), can be used for more than just crypto currencies. This presentation discusses how blockchain and the Internet of Things (IOT) can be used for several supply chain management and logistics use cases. Real world examples that utilize the open source project Hyperledger will be discussed. \\u200bBlockchain, also known as Distributed Ledger Technology (DLT), can be used for more than just crypto currencies. This presentation discusses how blockchain and the Internet of Things (IOT) can be used for several supply chain management and logistics use cases. Real world examples that utilize the open source project Hyperledger will be discussed.\\n\\nIt cannot be overseen or regulated by any one administrator, like a government or bank. Currently, there is no government regulation on them which also means there is no government safeguards over them. Although many are looking at Bitcoin to put money into, it would be wise to proceed with caution. Regular central banks are watching it and deciding whether or not to make them illegal (Criminalize them) and therefore make them worthless and eliminate them as competition. ICOs (Initial Coin Offer... It cannot be overseen or regulated by any one administrator, like a government or bank. Currently, there is no government regulation on them which also means there is no government safeguards over them. Although many are looking at Bitcoin to put money into, it would be wise to proceed with caution. Regular central banks are watching it and deciding whether or not to make them illegal (Criminalize them) and therefore make them worthless and eliminate them as competition. ICOs (Initial Coin Offer...\\n\\nMost modern computer languages embed a lot of metadata in their application. We show how this goldmine of data from a runtime environment like production or staging can be used to increase profits. Adi conceptualized the Crosscode platform after spending over 25 years working for large enterprise companies like HP, Cisco, IBM, UHG and personally experiencing the challenges that prevent companies from quickly making changes to their technology, due to the complexity of their enterprise. An accomp... Most modern computer languages embed a lot of metadata in their application. We show how this goldmine of data from a runtime environment like production or staging can be used to increase profits. Adi conceptualized the Crosscode platform after spending over 25 years working for large enterprise companies like HP, Cisco, IBM, UHG and personally experiencing the challenges that prevent companies from quickly making changes to their technology, due to the complexity of their enterprise. An accomp...\\n\\nAll in Mobile to Exhibit at CloudEXPO New York All in Mobile is a mobile app agency that helps enterprise companies and next generation startups build the future of digital. We offer mobile development and design for smartphones, tablets and wearables. Our projects cover the latest and most innovative technologies - voice assistants, AI, AR/VR and more. We excel at solutions for sports, fintech and retail industries. All in Mobile is a mobile app agency that helps enterprise companies and next generation startups build the future of digital. We offer mobile development and design for smartphones, tablets and wearables. Our projects cover the latest and most innovative technologies - voice assistants, AI, AR/VR and more. We excel at solutions for sports, fintech and retail industries.\\n\\nFor far too long technology teams have lived in siloes. Not only physical siloes, but cultural siloes pushed by competing objectives. This includes informational siloes where business users require one set of data and tech teams require different data. DevOps intends to bridge these gaps to make tech driven operations more aligned and efficient. For far too long technology teams have lived in siloes. Not only physical siloes, but cultural siloes pushed by competing objectives. This includes informational siloes where business users require one set of data and tech teams require different data. DevOps intends to bridge these gaps to make tech driven operations more aligned and efficient.\\n\\nBlockchain has numerous revolutionary ambitions, but technology hasn\\u2019t evolved enough to make them practical. What is the best use of blockchain technology today? How are asset owners and managers looking at blockchain to transform ownership structures? How will blockchain technology allow global investors to access new markets? What kinds of companies will take advantage of blockchain technology as a more efficient way to raise capital? Blockchain has numerous revolutionary ambitions, but technology hasn\\u2019t evolved enough to make them practical. What is the best use of blockchain technology today? How are asset owners and managers looking at blockchain to transform ownership structures? How will blockchain technology allow global investors to access new markets? What kinds of companies will take advantage of blockchain technology as a more efficient way to raise capital?\\n\\nTotal Uptime to Exhibit at CloudEXPO New York Since their inception, Total Uptime has been delivering on their promise of unprecedented uptime to major brands as well as Fortune 500 corporations in the United States and around the world. Their Cloud network spans 17 countries and delivers the unique ability to seamlessly route Internet traffic from one site to the next when our customers need us to. It is built on the best SSAE 16 SOC 2 Type 2 and CSAE 3416 Datacenters and boasts an impressive line-up of Network and Transit Provider Redunda... Since their inception, Total Uptime has been delivering on their promise of unprecedented uptime to major brands as well as Fortune 500 corporations in the United States and around the world. Their Cloud network spans 17 countries and delivers the unique ability to seamlessly route Internet traffic from one site to the next when our customers need us to. It is built on the best SSAE 16 SOC 2 Type 2 and CSAE 3416 Datacenters and boasts an impressive line-up of Network and Transit Provider Redunda...\", '', '', '', '', '', '', '', '', '', '', '']\n"
     ]
    }
   ],
   "source": [
    "print articles"
   ]
  },
  {
   "cell_type": "code",
   "execution_count": null,
   "metadata": {},
   "outputs": [],
   "source": []
  }
 ],
 "metadata": {
  "kernelspec": {
   "display_name": "Python 2",
   "language": "python",
   "name": "python2"
  },
  "language_info": {
   "codemirror_mode": {
    "name": "ipython",
    "version": 2
   },
   "file_extension": ".py",
   "mimetype": "text/x-python",
   "name": "python",
   "nbconvert_exporter": "python",
   "pygments_lexer": "ipython2",
   "version": "2.7.15"
  }
 },
 "nbformat": 4,
 "nbformat_minor": 2
}
