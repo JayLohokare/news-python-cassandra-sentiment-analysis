{
 "cells": [
  {
   "cell_type": "code",
   "execution_count": 1,
   "metadata": {
    "colab": {
     "autoexec": {
      "startup": false,
      "wait_interval": 0
     },
     "base_uri": "https://localhost:8080/",
     "height": 34
    },
    "colab_type": "code",
    "executionInfo": {
     "elapsed": 8512,
     "status": "ok",
     "timestamp": 1530976116995,
     "user": {
      "displayName": "Qian Shi",
      "photoUrl": "https://lh3.googleusercontent.com/a/default-user=s128",
      "userId": "102342575291268078477"
     },
     "user_tz": 240
    },
    "id": "flD3OLitXqBN",
    "outputId": "9bad18db-fdb9-4dc3-e397-dbc36bd29bae"
   },
   "outputs": [
    {
     "name": "stderr",
     "output_type": "stream",
     "text": [
      "/home/ubuntu/anaconda3/envs/tensorflow_p36/lib/python3.6/site-packages/h5py/__init__.py:36: FutureWarning: Conversion of the second argument of issubdtype from `float` to `np.floating` is deprecated. In future, it will be treated as `np.float64 == np.dtype(float).type`.\n",
      "  from ._conv import register_converters as _register_converters\n",
      "Using TensorFlow backend.\n"
     ]
    }
   ],
   "source": [
    "import pandas as pd\n",
    "import numpy as np\n",
    "import random\n",
    "import pickle\n",
    "\n",
    "from sklearn.utils import shuffle\n",
    "from sklearn.model_selection import train_test_split, StratifiedKFold\n",
    "\n",
    "from keras import optimizers\n",
    "from keras.regularizers import L1L2\n",
    "from keras.layers import Bidirectional\n",
    "from keras.preprocessing.text import Tokenizer\n",
    "from keras.preprocessing.sequence import pad_sequences\n",
    "from keras.models import Sequential\n",
    "from keras.utils import multi_gpu_model\n",
    "from keras.layers import Dense, Embedding, LSTM, GRU, RepeatVector, Dropout, BatchNormalization\n"
   ]
  },
  {
   "cell_type": "code",
   "execution_count": 2,
   "metadata": {
    "colab": {
     "autoexec": {
      "startup": false,
      "wait_interval": 0
     },
     "base_uri": "https://localhost:8080/",
     "height": 359
    },
    "colab_type": "code",
    "executionInfo": {
     "elapsed": 147,
     "status": "ok",
     "timestamp": 1530976299318,
     "user": {
      "displayName": "Qian Shi",
      "photoUrl": "https://lh3.googleusercontent.com/a/default-user=s128",
      "userId": "102342575291268078477"
     },
     "user_tz": 240
    },
    "id": "my3AVNHUEccU",
    "outputId": "525e1094-94b9-4df8-fb66-f75ecc7b05cb"
   },
   "outputs": [
    {
     "data": {
      "text/html": [
       "<div>\n",
       "<style scoped>\n",
       "    .dataframe tbody tr th:only-of-type {\n",
       "        vertical-align: middle;\n",
       "    }\n",
       "\n",
       "    .dataframe tbody tr th {\n",
       "        vertical-align: top;\n",
       "    }\n",
       "\n",
       "    .dataframe thead th {\n",
       "        text-align: right;\n",
       "    }\n",
       "</style>\n",
       "<table border=\"1\" class=\"dataframe\">\n",
       "  <thead>\n",
       "    <tr style=\"text-align: right;\">\n",
       "      <th></th>\n",
       "      <th>Relevance</th>\n",
       "      <th>Sentiment</th>\n",
       "      <th>Title</th>\n",
       "      <th>Texts</th>\n",
       "      <th>sentiment</th>\n",
       "    </tr>\n",
       "  </thead>\n",
       "  <tbody>\n",
       "    <tr>\n",
       "      <th>0</th>\n",
       "      <td>medium</td>\n",
       "      <td>10</td>\n",
       "      <td>copper pauses its incline move after it posted...</td>\n",
       "      <td>in addition, the red metal is still trading co...</td>\n",
       "      <td>Positive</td>\n",
       "    </tr>\n",
       "    <tr>\n",
       "      <th>1</th>\n",
       "      <td>medium</td>\n",
       "      <td>6</td>\n",
       "      <td>share or comment on this article</td>\n",
       "      <td>the brent crude oil price rose to $66.38, whic...</td>\n",
       "      <td>Neutral</td>\n",
       "    </tr>\n",
       "    <tr>\n",
       "      <th>2</th>\n",
       "      <td>medium</td>\n",
       "      <td>8</td>\n",
       "      <td>this canadian miner is poised to unlock furthe...</td>\n",
       "      <td>i consent to receiving information from the mo...</td>\n",
       "      <td>Positive</td>\n",
       "    </tr>\n",
       "    <tr>\n",
       "      <th>3</th>\n",
       "      <td>medium</td>\n",
       "      <td>5</td>\n",
       "      <td>union at chile lomas bayas mine far from deal ...</td>\n",
       "      <td>union president pedro valdivia said workers ag...</td>\n",
       "      <td>Neutral</td>\n",
       "    </tr>\n",
       "    <tr>\n",
       "      <th>5</th>\n",
       "      <td>medium</td>\n",
       "      <td>8</td>\n",
       "      <td>the bullish outlook for metals makes now the t...</td>\n",
       "      <td>i consent to receiving information from the mo...</td>\n",
       "      <td>Positive</td>\n",
       "    </tr>\n",
       "    <tr>\n",
       "      <th>6</th>\n",
       "      <td>medium</td>\n",
       "      <td>5</td>\n",
       "      <td>markets live: asx skids on miners</td>\n",
       "      <td>thanks for reading and for your comments. see ...</td>\n",
       "      <td>Neutral</td>\n",
       "    </tr>\n",
       "    <tr>\n",
       "      <th>7</th>\n",
       "      <td>medium</td>\n",
       "      <td>3</td>\n",
       "      <td>asx sags under mining sector weight</td>\n",
       "      <td>the s&amp;p/asx 200 index dropped 32 points, or 0....</td>\n",
       "      <td>Negative</td>\n",
       "    </tr>\n",
       "    <tr>\n",
       "      <th>8</th>\n",
       "      <td>medium</td>\n",
       "      <td>5</td>\n",
       "      <td>markets live: asx skids on miners</td>\n",
       "      <td>thanks for reading and for your comments. see ...</td>\n",
       "      <td>Neutral</td>\n",
       "    </tr>\n",
       "    <tr>\n",
       "      <th>9</th>\n",
       "      <td>medium</td>\n",
       "      <td>5</td>\n",
       "      <td>[img] 14:22 morning view - copper falls as chi...</td>\n",
       "      <td>copper falls as chile looks to restart five to...</td>\n",
       "      <td>Neutral</td>\n",
       "    </tr>\n",
       "    <tr>\n",
       "      <th>10</th>\n",
       "      <td>medium</td>\n",
       "      <td>6</td>\n",
       "      <td>commodity : copper price falls under overabund...</td>\n",
       "      <td>a ton of copper hit 6.930,50 dollars, its low...</td>\n",
       "      <td>Neutral</td>\n",
       "    </tr>\n",
       "  </tbody>\n",
       "</table>\n",
       "</div>"
      ],
      "text/plain": [
       "   Relevance  Sentiment                                              Title  \\\n",
       "0     medium         10  copper pauses its incline move after it posted...   \n",
       "1     medium          6                   share or comment on this article   \n",
       "2     medium          8  this canadian miner is poised to unlock furthe...   \n",
       "3     medium          5  union at chile lomas bayas mine far from deal ...   \n",
       "5     medium          8  the bullish outlook for metals makes now the t...   \n",
       "6     medium          5                  markets live: asx skids on miners   \n",
       "7     medium          3                asx sags under mining sector weight   \n",
       "8     medium          5                  markets live: asx skids on miners   \n",
       "9     medium          5  [img] 14:22 morning view - copper falls as chi...   \n",
       "10    medium          6  commodity : copper price falls under overabund...   \n",
       "\n",
       "                                                Texts sentiment  \n",
       "0   in addition, the red metal is still trading co...  Positive  \n",
       "1   the brent crude oil price rose to $66.38, whic...   Neutral  \n",
       "2   i consent to receiving information from the mo...  Positive  \n",
       "3   union president pedro valdivia said workers ag...   Neutral  \n",
       "5   i consent to receiving information from the mo...  Positive  \n",
       "6   thanks for reading and for your comments. see ...   Neutral  \n",
       "7   the s&p/asx 200 index dropped 32 points, or 0....  Negative  \n",
       "8   thanks for reading and for your comments. see ...   Neutral  \n",
       "9   copper falls as chile looks to restart five to...   Neutral  \n",
       "10   a ton of copper hit 6.930,50 dollars, its low...   Neutral  "
      ]
     },
     "execution_count": 2,
     "metadata": {},
     "output_type": "execute_result"
    }
   ],
   "source": [
    "all_Data = pd.read_pickle('all_Data.pkl')\n",
    "all_Data.head(10)"
   ]
  },
  {
   "cell_type": "code",
   "execution_count": 3,
   "metadata": {},
   "outputs": [
    {
     "data": {
      "text/plain": [
       "(66048, 5)"
      ]
     },
     "execution_count": 3,
     "metadata": {},
     "output_type": "execute_result"
    }
   ],
   "source": [
    "all_Data.shape"
   ]
  },
  {
   "cell_type": "code",
   "execution_count": null,
   "metadata": {
    "colab": {
     "autoexec": {
      "startup": false,
      "wait_interval": 0
     }
    },
    "colab_type": "code",
    "collapsed": true,
    "id": "nMT6QgZtXqBS",
    "outputId": "52ecbdce-07e2-4b3f-b8e5-14042755bba4"
   },
   "outputs": [],
   "source": [
    "# # Collect all files\n",
    "# files = [\"Commodity_Jan.pkl\", \n",
    "#          \"Commodity_Feb.pkl\", \n",
    "#          \"Commodity_Mar.pkl\", \n",
    "#          \"Commodity_Apr.pkl\", \n",
    "#          \"Commodity_May.pkl\",\n",
    "#          \"Crypto_Jan.pkl\", \n",
    "#          \"Crypto_Feb.pkl\", \n",
    "#          \"Crypto_Mar.pkl\", \n",
    "#          \"Crypto_Apr.pkl\",\n",
    "#          \"Forex_Jan.pkl\",\n",
    "#          \"Index_Feb.pkl\"]\n",
    "\n",
    "# # Import all datasets\n",
    "# all_Data = pd.read_pickle(\"Commodity_Jan.pkl\")\n",
    "# for filename in files:\n",
    "#     #path = \"./Data/\" + filename\n",
    "#     pickle_data = pd.read_pickle(filename)\n",
    "#     all_Data = pd.concat([all_Data, pickle_data])\n",
    "# print(\"The shape before removing NA values: \" + str(all_Data.shape))\n",
    "\n",
    "# # Remove NA values\n",
    "# all_Data = all_Data[all_Data['Texts'] != 'NA']\n",
    "# print(\"The shape after removing NA values: \" + str(all_Data.shape))\n"
   ]
  },
  {
   "cell_type": "code",
   "execution_count": null,
   "metadata": {
    "colab": {
     "autoexec": {
      "startup": false,
      "wait_interval": 0
     },
     "base_uri": "https://localhost:8080/",
     "height": 359
    },
    "colab_type": "code",
    "collapsed": true,
    "executionInfo": {
     "elapsed": 220,
     "status": "ok",
     "timestamp": 1530976308998,
     "user": {
      "displayName": "Qian Shi",
      "photoUrl": "https://lh3.googleusercontent.com/a/default-user=s128",
      "userId": "102342575291268078477"
     },
     "user_tz": 240
    },
    "id": "yGwoiJ_GXqBb",
    "outputId": "9bc249e1-8037-488d-af8b-b00e6bacc6e8"
   },
   "outputs": [],
   "source": [
    "# #all_Data = all_Data[all_Data['Texts'] != 'NA']\n",
    "\n",
    "# all_Data['Texts'] = all_Data['Texts'].apply(lambda x: x.lower())\n",
    "# all_Data['Title'] = all_Data['Title'].apply(lambda x: x.lower())\n",
    "\n",
    "# all_Data['Texts'] = all_Data['Texts'].apply(lambda x: x.replace(\"\\n\", \"\"))\n",
    "# all_Data['Texts'] = all_Data['Texts'].apply(lambda x: x.replace(\"\\'\", \"\"))\n",
    "\n",
    "\n",
    "# all_Data.head(10)"
   ]
  },
  {
   "cell_type": "code",
   "execution_count": null,
   "metadata": {
    "colab": {
     "autoexec": {
      "startup": false,
      "wait_interval": 0
     }
    },
    "colab_type": "code",
    "collapsed": true,
    "id": "DwozsXjmXqBe"
   },
   "outputs": [],
   "source": [
    "# def trans_sent(score):\n",
    "#     if score in [1, 2, 3]:\n",
    "#         return(\"Negative\")\n",
    "#     elif score in [4, 5, 6, 7]:\n",
    "#         return(\"Neutral\")\n",
    "#     else:\n",
    "#         return(\"Positive\")"
   ]
  },
  {
   "cell_type": "code",
   "execution_count": null,
   "metadata": {
    "colab": {
     "autoexec": {
      "startup": false,
      "wait_interval": 0
     },
     "base_uri": "https://localhost:8080/",
     "height": 359
    },
    "colab_type": "code",
    "collapsed": true,
    "executionInfo": {
     "elapsed": 173,
     "status": "ok",
     "timestamp": 1530976323806,
     "user": {
      "displayName": "Qian Shi",
      "photoUrl": "https://lh3.googleusercontent.com/a/default-user=s128",
      "userId": "102342575291268078477"
     },
     "user_tz": 240
    },
    "id": "g8nadf29XqBi",
    "outputId": "6e5631b1-86d7-4838-9cca-2455b3bd276d"
   },
   "outputs": [],
   "source": [
    "# all_Data['sentiment'] = 'NA'\n",
    "# all_Data['sentiment'] = all_Data['Sentiment'].apply(lambda x: trans_sent(x))\n",
    "\n",
    "# all_Data.head(10)"
   ]
  },
  {
   "cell_type": "code",
   "execution_count": null,
   "metadata": {
    "colab": {
     "autoexec": {
      "startup": false,
      "wait_interval": 0
     }
    },
    "colab_type": "code",
    "collapsed": true,
    "id": "iBbp-ioQXqBl"
   },
   "outputs": [],
   "source": [
    "#all_Data.to_pickle('all_Data.pkl')"
   ]
  },
  {
   "cell_type": "markdown",
   "metadata": {},
   "source": [
    "### Unbalanced data:"
   ]
  },
  {
   "cell_type": "code",
   "execution_count": 4,
   "metadata": {
    "colab": {
     "autoexec": {
      "startup": false,
      "wait_interval": 0
     },
     "base_uri": "https://localhost:8080/",
     "height": 85
    },
    "colab_type": "code",
    "executionInfo": {
     "elapsed": 197,
     "status": "ok",
     "timestamp": 1530976327530,
     "user": {
      "displayName": "Qian Shi",
      "photoUrl": "https://lh3.googleusercontent.com/a/default-user=s128",
      "userId": "102342575291268078477"
     },
     "user_tz": 240
    },
    "id": "82sGGHVKXqBp",
    "outputId": "fb391b1f-9fc2-453f-c338-828e9e10a8e5"
   },
   "outputs": [
    {
     "name": "stdout",
     "output_type": "stream",
     "text": [
      "The size for positive sentiments:  18641\n",
      "The size for neutral sentiments:  34814\n",
      "The size for negative sentiments:  12593\n",
      "The types for sentiments:  {'Neutral', 'Positive', 'Negative'}\n"
     ]
    }
   ],
   "source": [
    "pos_idx = np.where(all_Data['sentiment'] == 'Positive')[0]\n",
    "neu_idx = np.where(all_Data['sentiment'] == 'Neutral')[0]\n",
    "neg_idx = np.where(all_Data['sentiment'] == 'Negative')[0]\n",
    "\n",
    "print('The size for positive sentiments: ', len(pos_idx))\n",
    "print('The size for neutral sentiments: ', len(neu_idx))\n",
    "print('The size for negative sentiments: ', len(neg_idx))\n",
    "print('The types for sentiments: ', set(all_Data['sentiment']))\n"
   ]
  },
  {
   "cell_type": "markdown",
   "metadata": {},
   "source": [
    "### Balanced data:"
   ]
  },
  {
   "cell_type": "code",
   "execution_count": 5,
   "metadata": {},
   "outputs": [
    {
     "name": "stdout",
     "output_type": "stream",
     "text": [
      "The size for positive sentiments:  18641\n",
      "The size for neutral sentiments:  18000\n",
      "The size for negative sentiments:  12593\n"
     ]
    }
   ],
   "source": [
    "sel_neu_idx = []\n",
    "\n",
    "# Randomly select 18000 neutral samples\n",
    "for i in range(18000):\n",
    "    sel_neu_idx.append(random.choice(neu_idx))\n",
    "    \n",
    "    \n",
    "sel_neu = all_Data.iloc[sel_neu_idx]\n",
    "sel_neg = all_Data.iloc[neg_idx]\n",
    "sel_pos = all_Data.iloc[pos_idx]\n",
    "\n",
    "print('The size for positive sentiments: ', len(sel_pos))\n",
    "print('The size for neutral sentiments: ', len(sel_neu))\n",
    "print('The size for negative sentiments: ', len(sel_neg))\n"
   ]
  },
  {
   "cell_type": "code",
   "execution_count": 6,
   "metadata": {},
   "outputs": [
    {
     "data": {
      "text/html": [
       "<div>\n",
       "<style scoped>\n",
       "    .dataframe tbody tr th:only-of-type {\n",
       "        vertical-align: middle;\n",
       "    }\n",
       "\n",
       "    .dataframe tbody tr th {\n",
       "        vertical-align: top;\n",
       "    }\n",
       "\n",
       "    .dataframe thead th {\n",
       "        text-align: right;\n",
       "    }\n",
       "</style>\n",
       "<table border=\"1\" class=\"dataframe\">\n",
       "  <thead>\n",
       "    <tr style=\"text-align: right;\">\n",
       "      <th></th>\n",
       "      <th>Relevance</th>\n",
       "      <th>Sentiment</th>\n",
       "      <th>Title</th>\n",
       "      <th>Texts</th>\n",
       "      <th>sentiment</th>\n",
       "    </tr>\n",
       "  </thead>\n",
       "  <tbody>\n",
       "    <tr>\n",
       "      <th>0</th>\n",
       "      <td>medium</td>\n",
       "      <td>3</td>\n",
       "      <td>bitcoin tumbles as cryptocurrency sell-off int...</td>\n",
       "      <td>the currencies have come off their lows but an...</td>\n",
       "      <td>Negative</td>\n",
       "    </tr>\n",
       "    <tr>\n",
       "      <th>1</th>\n",
       "      <td>medium</td>\n",
       "      <td>4</td>\n",
       "      <td>toys r us an aladdin's cave no longer. lazy bo...</td>\n",
       "      <td>thing is, there probably wont be any tears fro...</td>\n",
       "      <td>Neutral</td>\n",
       "    </tr>\n",
       "    <tr>\n",
       "      <th>2</th>\n",
       "      <td>high</td>\n",
       "      <td>2</td>\n",
       "      <td>shanghai crude futures sink after heavy overn...</td>\n",
       "      <td>the big volumes done in the late evening in ch...</td>\n",
       "      <td>Negative</td>\n",
       "    </tr>\n",
       "    <tr>\n",
       "      <th>3</th>\n",
       "      <td>medium</td>\n",
       "      <td>2</td>\n",
       "      <td>oil slides on wall street slump and crude supp...</td>\n",
       "      <td>on thursday, oil followed the stock market low...</td>\n",
       "      <td>Negative</td>\n",
       "    </tr>\n",
       "    <tr>\n",
       "      <th>4</th>\n",
       "      <td>medium</td>\n",
       "      <td>8</td>\n",
       "      <td>toyota motor : team usa and team toyota athlet...</td>\n",
       "      <td>in banked slalom, and put in strong third-run ...</td>\n",
       "      <td>Positive</td>\n",
       "    </tr>\n",
       "    <tr>\n",
       "      <th>5</th>\n",
       "      <td>high</td>\n",
       "      <td>4</td>\n",
       "      <td>trump administration considers big cuts to fue...</td>\n",
       "      <td>the national highway traffic safety administra...</td>\n",
       "      <td>Neutral</td>\n",
       "    </tr>\n",
       "    <tr>\n",
       "      <th>6</th>\n",
       "      <td>low</td>\n",
       "      <td>9</td>\n",
       "      <td>launch videos: oppo's r11s and r11s plus, its ...</td>\n",
       "      <td>update: two videos of from the oppo launch are...</td>\n",
       "      <td>Positive</td>\n",
       "    </tr>\n",
       "    <tr>\n",
       "      <th>7</th>\n",
       "      <td>medium</td>\n",
       "      <td>8</td>\n",
       "      <td>dollar could get a lift from tax overhaul</td>\n",
       "      <td>the view hinges on a sweeping tax overhaul rep...</td>\n",
       "      <td>Positive</td>\n",
       "    </tr>\n",
       "    <tr>\n",
       "      <th>8</th>\n",
       "      <td>medium</td>\n",
       "      <td>6</td>\n",
       "      <td>zodiac dog, pig go missing for chinese new yea...</td>\n",
       "      <td>a photo of the t-shirt went viral on social me...</td>\n",
       "      <td>Neutral</td>\n",
       "    </tr>\n",
       "    <tr>\n",
       "      <th>9</th>\n",
       "      <td>low</td>\n",
       "      <td>8</td>\n",
       "      <td>walmart makes push to sell online goods at $10...</td>\n",
       "      <td>walmarts goal is to see higher profit margins ...</td>\n",
       "      <td>Positive</td>\n",
       "    </tr>\n",
       "  </tbody>\n",
       "</table>\n",
       "</div>"
      ],
      "text/plain": [
       "  Relevance  Sentiment                                              Title  \\\n",
       "0    medium          3  bitcoin tumbles as cryptocurrency sell-off int...   \n",
       "1    medium          4  toys r us an aladdin's cave no longer. lazy bo...   \n",
       "2      high          2   shanghai crude futures sink after heavy overn...   \n",
       "3    medium          2  oil slides on wall street slump and crude supp...   \n",
       "4    medium          8  toyota motor : team usa and team toyota athlet...   \n",
       "5      high          4  trump administration considers big cuts to fue...   \n",
       "6       low          9  launch videos: oppo's r11s and r11s plus, its ...   \n",
       "7    medium          8          dollar could get a lift from tax overhaul   \n",
       "8    medium          6  zodiac dog, pig go missing for chinese new yea...   \n",
       "9       low          8  walmart makes push to sell online goods at $10...   \n",
       "\n",
       "                                               Texts sentiment  \n",
       "0  the currencies have come off their lows but an...  Negative  \n",
       "1  thing is, there probably wont be any tears fro...   Neutral  \n",
       "2  the big volumes done in the late evening in ch...  Negative  \n",
       "3  on thursday, oil followed the stock market low...  Negative  \n",
       "4  in banked slalom, and put in strong third-run ...  Positive  \n",
       "5  the national highway traffic safety administra...   Neutral  \n",
       "6  update: two videos of from the oppo launch are...  Positive  \n",
       "7  the view hinges on a sweeping tax overhaul rep...  Positive  \n",
       "8  a photo of the t-shirt went viral on social me...   Neutral  \n",
       "9  walmarts goal is to see higher profit margins ...  Positive  "
      ]
     },
     "execution_count": 6,
     "metadata": {},
     "output_type": "execute_result"
    }
   ],
   "source": [
    "all_Data_bal = pd.concat([sel_neg, sel_pos, sel_neu])\n",
    "all_Data_bal = shuffle(all_Data_bal)\n",
    "all_Data_bal = all_Data_bal.reset_index(drop = True)\n",
    "all_Data_bal.head(10)\n"
   ]
  },
  {
   "cell_type": "markdown",
   "metadata": {},
   "source": [
    "### Data preprocessing:"
   ]
  },
  {
   "cell_type": "code",
   "execution_count": 7,
   "metadata": {
    "colab": {
     "autoexec": {
      "startup": false,
      "wait_interval": 0
     }
    },
    "colab_type": "code",
    "collapsed": true,
    "id": "fnx5g1Xcvqzh"
   },
   "outputs": [],
   "source": [
    "max_features = 2000\n",
    "tokenizer = Tokenizer(num_words = max_features, split = ' ', char_level = False)\n",
    "\n",
    "#tokenizer.fit_on_texts(all_Data['Texts'].values)\n",
    "tokenizer.fit_on_texts(all_Data_bal['Texts'].values)\n",
    "\n",
    "#print(tokenizer.word_counts)"
   ]
  },
  {
   "cell_type": "code",
   "execution_count": 8,
   "metadata": {
    "colab": {
     "autoexec": {
      "startup": false,
      "wait_interval": 0
     }
    },
    "colab_type": "code",
    "collapsed": true,
    "id": "0XyEXPlAohaT"
   },
   "outputs": [],
   "source": [
    "## Unbalanced one\n",
    "#X = tokenizer.texts_to_sequences(all_Data['Texts'].values)\n",
    "\n",
    "# Balanced one\n",
    "\n",
    "X_bal = tokenizer.texts_to_sequences(all_Data_bal['Texts'].values)"
   ]
  },
  {
   "cell_type": "code",
   "execution_count": 9,
   "metadata": {
    "colab": {
     "autoexec": {
      "startup": false,
      "wait_interval": 0
     },
     "base_uri": "https://localhost:8080/",
     "height": 34
    },
    "colab_type": "code",
    "executionInfo": {
     "elapsed": 537,
     "status": "ok",
     "timestamp": 1530886326511,
     "user": {
      "displayName": "Qian Shi",
      "photoUrl": "https://lh3.googleusercontent.com/a/default-user=s128",
      "userId": "102342575291268078477"
     },
     "user_tz": 240
    },
    "id": "iwC8o21w2Haa",
    "outputId": "702cf9ba-75c4-4186-9ea9-bb88131b28b2"
   },
   "outputs": [
    {
     "name": "stdout",
     "output_type": "stream",
     "text": [
      "(49234, 200)\n"
     ]
    }
   ],
   "source": [
    "maxlen = 200\n",
    "\n",
    "## Unbalanced one\n",
    "# X = pad_sequences(X, maxlen = maxlen)\n",
    "# print(X.shape)\n",
    "\n",
    "# Balanced one\n",
    "X_bal = pad_sequences(X_bal, maxlen = maxlen)\n",
    "print(X_bal.shape)"
   ]
  },
  {
   "cell_type": "code",
   "execution_count": null,
   "metadata": {
    "collapsed": true
   },
   "outputs": [],
   "source": [
    "# import pickle\n",
    "\n",
    "# # Save to a pickle file\n",
    "# fileObject = open('X.pkl', 'wb')\n",
    "# pickle.dump(X, fileObject)\n",
    "# fileObject.close()\n",
    "\n",
    "# # Read a pickle file\n",
    "# fileObject = open('X.pkl', 'rb')\n",
    "# X = pickle.load(fileObject)\n",
    "# fileObject.close()"
   ]
  },
  {
   "cell_type": "markdown",
   "metadata": {},
   "source": [
    "### 2-Layer LSTM/BLSTM:"
   ]
  },
  {
   "cell_type": "code",
   "execution_count": null,
   "metadata": {
    "colab": {
     "autoexec": {
      "startup": false,
      "wait_interval": 0
     },
     "base_uri": "https://localhost:8080/",
     "height": 323
    },
    "colab_type": "code",
    "collapsed": true,
    "executionInfo": {
     "elapsed": 2047,
     "status": "ok",
     "timestamp": 1530886330526,
     "user": {
      "displayName": "Qian Shi",
      "photoUrl": "https://lh3.googleusercontent.com/a/default-user=s128",
      "userId": "102342575291268078477"
     },
     "user_tz": 240
    },
    "id": "KnLOztXwXqB7",
    "outputId": "097de915-7836-4525-fd29-f1d5557f511c"
   },
   "outputs": [],
   "source": [
    "embed_dim = 300\n",
    "hid_dim = 500\n",
    "hid_dim2 = 300\n",
    "lstm_out = 50\n",
    "\n",
    "\n",
    "blstm2_w_dp = Sequential()\n",
    "blstm2_w_dp.add(Embedding(max_features, embed_dim, input_length = X_bal.shape[1]))\n",
    "\n",
    "blstm2_w_dp.add(Bidirectional(LSTM(hid_dim, dropout = 0.2, recurrent_dropout = 0.2, bias_regularizer = L1L2(l1 = 0.1, l2 = 0.1), return_sequences = True)))\n",
    "blstm2_w_dp.add(Bidirectional(LSTM(hid_dim2, dropout = 0.2, recurrent_dropout = 0.2, bias_regularizer = L1L2(l1 = 0.1, l2 = 0.1))))\n",
    "\n",
    "blstm2_w_dp.add(Dense(lstm_out, activation ='relu'))\n",
    "blstm2_w_dp.add(Dense(3, activation = 'softmax'))\n",
    "\n",
    "blstm2_w_dp_gpu = multi_gpu_model(model = blstm2_w_dp, gpus = 4)\n",
    "blstm2_w_dp_gpu.compile(loss = 'categorical_crossentropy', \n",
    "                       optimizer = optimizers.Adam(lr = 1e-3), \n",
    "                       metrics = ['accuracy'])\n",
    "\n",
    "print(blstm2_w_dp_gpu.summary())"
   ]
  },
  {
   "cell_type": "markdown",
   "metadata": {},
   "source": [
    "### 3-Layer LSTM/BLSTM:"
   ]
  },
  {
   "cell_type": "code",
   "execution_count": 10,
   "metadata": {},
   "outputs": [
    {
     "name": "stdout",
     "output_type": "stream",
     "text": [
      "__________________________________________________________________________________________________\n",
      "Layer (type)                    Output Shape         Param #     Connected to                     \n",
      "==================================================================================================\n",
      "embedding_1_input (InputLayer)  (None, 200)          0                                            \n",
      "__________________________________________________________________________________________________\n",
      "lambda_1 (Lambda)               (None, 200)          0           embedding_1_input[0][0]          \n",
      "__________________________________________________________________________________________________\n",
      "lambda_2 (Lambda)               (None, 200)          0           embedding_1_input[0][0]          \n",
      "__________________________________________________________________________________________________\n",
      "lambda_3 (Lambda)               (None, 200)          0           embedding_1_input[0][0]          \n",
      "__________________________________________________________________________________________________\n",
      "lambda_4 (Lambda)               (None, 200)          0           embedding_1_input[0][0]          \n",
      "__________________________________________________________________________________________________\n",
      "sequential_1 (Sequential)       (None, 3)            7512503     lambda_1[0][0]                   \n",
      "                                                                 lambda_2[0][0]                   \n",
      "                                                                 lambda_3[0][0]                   \n",
      "                                                                 lambda_4[0][0]                   \n",
      "__________________________________________________________________________________________________\n",
      "dense_3 (Concatenate)           (None, 3)            0           sequential_1[1][0]               \n",
      "                                                                 sequential_1[2][0]               \n",
      "                                                                 sequential_1[3][0]               \n",
      "                                                                 sequential_1[4][0]               \n",
      "==================================================================================================\n",
      "Total params: 7,512,503\n",
      "Trainable params: 7,512,503\n",
      "Non-trainable params: 0\n",
      "__________________________________________________________________________________________________\n",
      "None\n"
     ]
    }
   ],
   "source": [
    "embed_dim = 300\n",
    "hid_dim = 500\n",
    "hid_dim2 = 300\n",
    "hid_dim3 = 100\n",
    "lstm_out = 100\n",
    "lstm_out2 = 50\n",
    "\n",
    "\n",
    "\n",
    "blstm3_w_dp = Sequential()\n",
    "blstm3_w_dp.add(Embedding(max_features, embed_dim, input_length = X_bal.shape[1]))\n",
    "\n",
    "blstm3_w_dp.add(Bidirectional(LSTM(hid_dim, return_sequences = True, bias_regularizer = L1L2(l1 = 0.1, l2 = 0.1))))\n",
    "blstm3_w_dp.add(Bidirectional(LSTM(hid_dim2, return_sequences = True, bias_regularizer = L1L2(l1 = 0.1, l2 = 0.1))))\n",
    "blstm3_w_dp.add(Bidirectional(LSTM(hid_dim3, bias_regularizer = L1L2(l1 = 0.1, l2 = 0.1))))\n",
    "\n",
    "                \n",
    "blstm3_w_dp.add(Dense(lstm_out, activation = 'elu'))\n",
    "blstm3_w_dp.add(Dense(lstm_out2, activation = 'relu'))\n",
    "blstm3_w_dp.add(Dense(3, activation = 'softmax'))\n",
    "\n",
    "blstm3_w_dp_gpu = multi_gpu_model(model = blstm3_w_dp, gpus = 4)\n",
    "blstm3_w_dp_gpu.compile(loss = 'categorical_crossentropy', \n",
    "                       optimizer = optimizers.Adam(lr = 1e-3), \n",
    "                       metrics = ['accuracy'])\n",
    "\n",
    "print(blstm3_w_dp_gpu.summary())"
   ]
  },
  {
   "cell_type": "markdown",
   "metadata": {},
   "source": [
    "### 3-Layer GRU:"
   ]
  },
  {
   "cell_type": "code",
   "execution_count": null,
   "metadata": {
    "collapsed": true
   },
   "outputs": [],
   "source": [
    "embed_dim = 300\n",
    "hid_dim = 700\n",
    "hid_dim2 = 500\n",
    "hid_dim3 = 300\n",
    "lstm_out = 50\n",
    "\n",
    "\n",
    "model_gru = Sequential()\n",
    "model_gru.add(Embedding(max_features, embed_dim, input_length = X_bal.shape[1], mask_zero = True))\n",
    "\n",
    "model_gru.add(GRU(hid_dim, return_sequences = True, dropout = 0.2, recurrent_dropout = 0.2))\n",
    "model_gru.add(GRU(hid_dim2, return_sequences = True, dropout = 0.2, recurrent_dropout = 0.2))\n",
    "model_gru.add(GRU(hid_dim3, dropout = 0.2, recurrent_dropout = 0.2))\n",
    "\n",
    "model_gru.add(Dense(lstm_out, activation ='relu'))\n",
    "model_gru.add(Dense(3, activation = 'softmax'))\n",
    "\n",
    "\n",
    "model_gru_gpu = multi_gpu_model(model = model_gru, gpus = 4)\n",
    "model_gru_gpu.compile(loss = 'categorical_crossentropy', \n",
    "                       optimizer = optimizers.Adam(lr = 1e-3), \n",
    "                       metrics = ['accuracy'])\n",
    "\n",
    "print(model_gru_gpu.summary())"
   ]
  },
  {
   "cell_type": "markdown",
   "metadata": {},
   "source": [
    "### Train-test split:"
   ]
  },
  {
   "cell_type": "code",
   "execution_count": 11,
   "metadata": {
    "colab": {
     "autoexec": {
      "startup": false,
      "wait_interval": 0
     },
     "base_uri": "https://localhost:8080/",
     "height": 51
    },
    "colab_type": "code",
    "executionInfo": {
     "elapsed": 268,
     "status": "ok",
     "timestamp": 1530886339561,
     "user": {
      "displayName": "Qian Shi",
      "photoUrl": "https://lh3.googleusercontent.com/a/default-user=s128",
      "userId": "102342575291268078477"
     },
     "user_tz": 240
    },
    "id": "3LG_MJVvXqCO",
    "outputId": "847e8bbf-f26f-4eba-a2bb-2b98064ded61"
   },
   "outputs": [
    {
     "name": "stdout",
     "output_type": "stream",
     "text": [
      "(39387, 200) (39387,)\n",
      "(9847, 200) (9847,)\n"
     ]
    }
   ],
   "source": [
    "y_bal = all_Data_bal['sentiment']\n",
    "\n",
    "#X_train, X_test, y_train, y_test = train_test_split(X, y, test_size = 0.2)\n",
    "X_train, X_test, y_train, y_test = train_test_split(X_bal, y_bal, test_size = 0.2)\n",
    "\n",
    "print(X_train.shape, y_train.shape)\n",
    "print(X_test.shape, y_test.shape)"
   ]
  },
  {
   "cell_type": "code",
   "execution_count": 12,
   "metadata": {
    "colab": {
     "autoexec": {
      "startup": false,
      "wait_interval": 0
     },
     "base_uri": "https://localhost:8080/",
     "height": 0
    },
    "colab_type": "code",
    "collapsed": true,
    "executionInfo": {
     "elapsed": 257,
     "status": "ok",
     "timestamp": 1530886344591,
     "user": {
      "displayName": "Qian Shi",
      "photoUrl": "https://lh3.googleusercontent.com/a/default-user=s128",
      "userId": "102342575291268078477"
     },
     "user_tz": 240
    },
    "id": "4pJNXca_XqCi",
    "outputId": "f1e67de3-d2d4-46c2-89d3-9a316b2f7f08"
   },
   "outputs": [],
   "source": [
    "def cv_LSTM_news(model, model_name, X_train, y_train, X_test, y_test, k = 5, epochs = 30, batch_size = 50):\n",
    "    \n",
    "    cv_acc = []\n",
    "    \n",
    "    \n",
    "    kfolds = StratifiedKFold(n_splits = k, shuffle = True)\n",
    "    first = True\n",
    "    i = 0\n",
    "    \n",
    "    for train_idx, valid_idx in kfolds.split(X_train, y_train):\n",
    "      \n",
    "        # One-hot encoding\n",
    "        if first:\n",
    "            y_train = pd.get_dummies(y_train).values\n",
    "            first = False\n",
    "        \n",
    "        X_t = X_train[train_idx]\n",
    "        X_v = X_train[valid_idx]\n",
    "        y_t = y_train[train_idx]\n",
    "        y_v = y_train[valid_idx]\n",
    "        print(\"Finish data dividing!\")\n",
    "        print(\"Training samples:   {}\".format(X_t.shape[0]))\n",
    "        print(\"Validating samples: {}\".format(X_v.shape[0]))\n",
    "        \n",
    "        # Train the model on training set\n",
    "        model.fit(X_t, y_t, epochs = epochs, batch_size = batch_size, verbose = 2, shuffle = False)\n",
    "        print(\"Finish model fitting!\")\n",
    "        \n",
    "        \n",
    "        # Save the model\n",
    "        modelName = model_name + \"_fold_\" + str(i+1)\n",
    "        model.save(modelName + '.h5')\n",
    "        print(\"Finish model saving!\")\n",
    "        \n",
    "        \n",
    "        # Evaluate the model on validation set\n",
    "        _, acc = model.evaluate(X_v, y_v, verbose = 2)\n",
    "        print(\"Finish model evaluating!\")\n",
    "        \n",
    "        cv_acc.append(acc)\n",
    "        i += 1\n",
    "        \n",
    "        print(\"-------------------------------------   Accuracy on validation set:   %.2f%%   ---------------------------------------\" \n",
    "              % (acc*100))\n",
    "        \n",
    "\n",
    "        \n",
    "    \n",
    "    print(\"-------------------------------------   Average accuracy on validation sets:   %.2f%% (+/- %.2f%%)   ---------------------------------------\" \n",
    "          % (np.mean(cv_acc)*100, np.std(cv_acc)))\n",
    "    \n",
    "    \n",
    "    # Evaluate the model on testing set\n",
    "    y_test = pd.get_dummies(y_test).values\n",
    "    _, acc = model.evaluate(X_test, y_test, verbose = 2)\n",
    "    print(\"-------------------------------------   Accuracy on testing set:   %.2f%%  ---------------------------------------\" %(acc * 100))\n",
    "    \n",
    "    return(cv_acc)\n",
    "        \n"
   ]
  },
  {
   "cell_type": "code",
   "execution_count": null,
   "metadata": {
    "colab": {
     "autoexec": {
      "startup": false,
      "wait_interval": 0
     },
     "base_uri": "https://localhost:8080/",
     "height": 493
    },
    "colab_type": "code",
    "id": "_e7gtW9aGCJ7",
    "outputId": "5f41ac83-f148-4979-f22f-a6f5a0db053c",
    "scrolled": true
   },
   "outputs": [
    {
     "name": "stdout",
     "output_type": "stream",
     "text": [
      "Finish data dividing!\n",
      "Training samples:   19693\n",
      "Validating samples: 19694\n",
      "Epoch 1/30\n",
      " - 74s - loss: 356.6152 - acc: 0.4071\n",
      "Epoch 2/30\n",
      " - 57s - loss: 345.8025 - acc: 0.4888\n",
      "Epoch 3/30\n",
      " - 59s - loss: 335.1787 - acc: 0.5400\n",
      "Epoch 4/30\n",
      " - 58s - loss: 324.7746 - acc: 0.6077\n",
      "Epoch 5/30\n",
      " - 58s - loss: 314.6093 - acc: 0.6649\n",
      "Epoch 6/30\n",
      " - 58s - loss: 304.6770 - acc: 0.7032\n",
      "Epoch 7/30\n",
      " - 58s - loss: 294.9886 - acc: 0.7243\n",
      "Epoch 8/30\n",
      " - 58s - loss: 285.5181 - acc: 0.7335\n",
      "Epoch 9/30\n",
      " - 58s - loss: 276.2250 - acc: 0.7576\n",
      "Epoch 10/30\n",
      " - 58s - loss: 267.1724 - acc: 0.7638\n",
      "Epoch 11/30\n",
      " - 59s - loss: 258.2956 - acc: 0.7801\n",
      "Epoch 12/30\n",
      " - 58s - loss: 249.5865 - acc: 0.7976\n",
      "Epoch 13/30\n",
      " - 58s - loss: 241.0800 - acc: 0.8153\n",
      "Epoch 14/30\n",
      " - 58s - loss: 232.7419 - acc: 0.8375\n",
      "Epoch 15/30\n",
      " - 58s - loss: 224.6257 - acc: 0.8420\n",
      "Epoch 16/30\n",
      " - 58s - loss: 216.6812 - acc: 0.8550\n",
      "Epoch 17/30\n",
      " - 58s - loss: 208.9101 - acc: 0.8657\n",
      "Epoch 18/30\n",
      " - 58s - loss: 201.3156 - acc: 0.8730\n",
      "Epoch 19/30\n",
      " - 59s - loss: 193.8902 - acc: 0.8863\n",
      "Epoch 20/30\n",
      " - 58s - loss: 186.6488 - acc: 0.8879\n",
      "Epoch 21/30\n",
      " - 59s - loss: 179.5562 - acc: 0.8991\n",
      "Epoch 22/30\n",
      " - 58s - loss: 172.6290 - acc: 0.9096\n",
      "Epoch 23/30\n",
      " - 58s - loss: 165.8698 - acc: 0.9151\n",
      "Epoch 24/30\n",
      " - 57s - loss: 159.2754 - acc: 0.9207\n",
      "Epoch 25/30\n",
      " - 57s - loss: 152.8597 - acc: 0.9226\n",
      "Epoch 26/30\n",
      " - 56s - loss: 146.5888 - acc: 0.9197\n",
      "Epoch 27/30\n",
      " - 55s - loss: 140.4855 - acc: 0.9198\n",
      "Epoch 28/30\n",
      " - 55s - loss: 134.4993 - acc: 0.9236\n",
      "Epoch 29/30\n",
      " - 54s - loss: 128.6547 - acc: 0.9289\n",
      "Epoch 30/30\n",
      " - 53s - loss: 122.9571 - acc: 0.9357\n",
      "Finish model fitting!\n",
      "Finish model saving!\n",
      "Finish model evaluating!\n",
      "-------------------------------------   Accuracy on validation set:   60.96%   ---------------------------------------\n",
      "Finish data dividing!\n",
      "Training samples:   19694\n",
      "Validating samples: 19693\n",
      "Epoch 1/30\n",
      " - 53s - loss: 118.3962 - acc: 0.5566\n",
      "Epoch 2/30\n",
      " - 54s - loss: 112.7248 - acc: 0.6020\n",
      "Epoch 3/30\n",
      " - 54s - loss: 107.3662 - acc: 0.6706\n",
      "Epoch 4/30\n",
      " - 53s - loss: 102.1582 - acc: 0.7186\n",
      "Epoch 5/30\n",
      " - 53s - loss: 97.0827 - acc: 0.7644\n",
      "Epoch 6/30\n",
      " - 53s - loss: 92.1400 - acc: 0.8022\n",
      "Epoch 7/30\n",
      " - 54s - loss: 87.3335 - acc: 0.8343\n",
      "Epoch 8/30\n",
      " - 54s - loss: 82.6826 - acc: 0.8502\n",
      "Epoch 9/30\n",
      " - 53s - loss: 78.1802 - acc: 0.8569\n",
      "Epoch 10/30\n",
      " - 53s - loss: 73.8289 - acc: 0.8507\n",
      "Epoch 11/30\n",
      " - 53s - loss: 69.5828 - acc: 0.8513\n",
      "Epoch 12/30\n",
      " - 53s - loss: 65.4177 - acc: 0.8667\n",
      "Epoch 13/30\n",
      " - 53s - loss: 61.3616 - acc: 0.8843\n",
      "Epoch 14/30\n",
      " - 53s - loss: 57.4199 - acc: 0.9019\n",
      "Epoch 15/30\n",
      " - 53s - loss: 53.6155 - acc: 0.9089\n",
      "Epoch 16/30\n",
      " - 53s - loss: 49.9366 - acc: 0.9058\n",
      "Epoch 17/30\n",
      " - 54s - loss: 46.3516 - acc: 0.9128\n",
      "Epoch 18/30\n",
      " - 54s - loss: 42.8920 - acc: 0.9130\n",
      "Epoch 19/30\n",
      " - 53s - loss: 39.5457 - acc: 0.9077\n",
      "Epoch 20/30\n",
      " - 54s - loss: 36.2728 - acc: 0.9073\n",
      "Epoch 21/30\n",
      " - 54s - loss: 33.1081 - acc: 0.9068\n",
      "Epoch 22/30\n",
      " - 54s - loss: 30.0043 - acc: 0.9196\n",
      "Epoch 23/30\n",
      " - 53s - loss: 27.0037 - acc: 0.9293\n",
      "Epoch 24/30\n",
      " - 54s - loss: 24.0962 - acc: 0.9361\n",
      "Epoch 25/30\n",
      " - 53s - loss: 21.3002 - acc: 0.9368\n",
      "Epoch 26/30\n",
      " - 54s - loss: 18.5844 - acc: 0.9418\n",
      "Epoch 27/30\n",
      " - 53s - loss: 15.9483 - acc: 0.9483\n",
      "Epoch 28/30\n",
      " - 53s - loss: 13.4150 - acc: 0.9469\n",
      "Epoch 29/30\n"
     ]
    }
   ],
   "source": [
    "cv_acc = cv_LSTM_news(blstm3_w_dp_gpu, \"try\", X_train, y_train, X_test, y_test, k = 2, epochs = 30, batch_size = 1024)\n"
   ]
  },
  {
   "cell_type": "code",
   "execution_count": null,
   "metadata": {
    "collapsed": true
   },
   "outputs": [],
   "source": []
  },
  {
   "cell_type": "code",
   "execution_count": null,
   "metadata": {
    "collapsed": true
   },
   "outputs": [],
   "source": []
  }
 ],
 "metadata": {
  "accelerator": "GPU",
  "colab": {
   "collapsed_sections": [],
   "default_view": {},
   "name": "LSTM_News.ipynb",
   "provenance": [],
   "version": "0.3.2",
   "views": {}
  },
  "kernelspec": {
   "display_name": "Python 2",
   "language": "python",
   "name": "python2"
  },
  "language_info": {
   "codemirror_mode": {
    "name": "ipython",
    "version": 2
   },
   "file_extension": ".py",
   "mimetype": "text/x-python",
   "name": "python",
   "nbconvert_exporter": "python",
   "pygments_lexer": "ipython2",
   "version": "2.7.14"
  }
 },
 "nbformat": 4,
 "nbformat_minor": 1
}
